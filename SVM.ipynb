{
 "cells": [
  {
   "cell_type": "markdown",
   "metadata": {},
   "source": [
    "# SVM"
   ]
  },
  {
   "cell_type": "markdown",
   "metadata": {},
   "source": [
    "## Import Libraries"
   ]
  },
  {
   "cell_type": "code",
   "execution_count": null,
   "metadata": {},
   "outputs": [],
   "source": [
    "from sklearn.metrics import accuracy_score, f1_score, precision_score, recall_score\n",
    "from sklearn.model_selection import GridSearchCV\n",
    "from sklearn.svm import SVC\n",
    "import numpy as np\n",
    "import pandas as pd\n",
    "import pickle\n",
    "import sys\n",
    "import os"
   ]
  },
  {
   "cell_type": "markdown",
   "metadata": {},
   "source": [
    "## Load the Data"
   ]
  },
  {
   "cell_type": "code",
   "execution_count": null,
   "metadata": {},
   "outputs": [],
   "source": [
    "train = pd.read_csv('pca_train_2.csv').fillna('').values\n",
    "test = pd.read_csv('pca_test_2.csv').fillna('').values"
   ]
  },
  {
   "cell_type": "markdown",
   "metadata": {},
   "source": [
    "## Split into X and Y"
   ]
  },
  {
   "cell_type": "code",
   "execution_count": null,
   "metadata": {},
   "outputs": [],
   "source": [
    "X_train, Y_train = train[:,:-1], train[:,-1]\n",
    "X_test, Y_test = test[:,:-1], test[:,-1]"
   ]
  },
  {
   "cell_type": "markdown",
   "metadata": {},
   "source": [
    "## SVM Cross-Validation"
   ]
  },
  {
   "cell_type": "code",
   "execution_count": null,
   "metadata": {},
   "outputs": [],
   "source": [
    "clf = None\n",
    "if not os.path.exists('svm.pkl'):\n",
    "    param_grid = [\n",
    "        {'C':[0.001, 0.01, 0.1, 1, 10, 100],\n",
    "         'kernel':['linear', 'sigmoid', 'rbf', 'poly'],\n",
    "         'degree':[2,3],\n",
    "         'gamma': [0.1,0.3,0.5,0.7,0.9],\n",
    "         'coef0': [0.1,0.5,1.0,5.0,10.0]}\n",
    "    ]\n",
    "\n",
    "    svc = SVC(random_state=10)\n",
    "    clf = GridSearchCV(svc, param_grid,\n",
    "                       ['accuracy'],\n",
    "                       cv=5, refit='accuracy', verbose=3, n_jobs=5)\n",
    "    clf.fit(X_train, Y_train)\n",
    "else:\n",
    "    clf = pickle.load(open('svm.pkl', 'rb'))"
   ]
  },
  {
   "cell_type": "markdown",
   "metadata": {},
   "source": [
    "## Save SVM Model"
   ]
  },
  {
   "cell_type": "code",
   "execution_count": null,
   "metadata": {},
   "outputs": [],
   "source": [
    "if not os.path.exists('svm.pkl'):\n",
    "    pickle.dump(clf, open('svm.pkl', 'wb'))"
   ]
  },
  {
   "cell_type": "markdown",
   "metadata": {},
   "source": [
    "## Predict and Output Results"
   ]
  },
  {
   "cell_type": "code",
   "execution_count": null,
   "metadata": {},
   "outputs": [],
   "source": [
    "Y_pred = clf.predict(X_test)\n",
    "print(accuracy_score(Y_test, Y_pred))\n",
    "print(precision_score(Y_test, Y_pred))\n",
    "print(recall_score(Y_test, Y_pred))\n",
    "print(f1_score(Y_test, Y_pred))"
   ]
  }
 ],
 "metadata": {
  "kernelspec": {
   "display_name": "Python 3",
   "language": "python",
   "name": "python3"
  },
  "language_info": {
   "codemirror_mode": {
    "name": "ipython",
    "version": 3
   },
   "file_extension": ".py",
   "mimetype": "text/x-python",
   "name": "python",
   "nbconvert_exporter": "python",
   "pygments_lexer": "ipython3",
   "version": "3.6.5"
  }
 },
 "nbformat": 4,
 "nbformat_minor": 2
}
