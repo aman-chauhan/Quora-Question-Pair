{
 "cells": [
  {
   "cell_type": "code",
   "execution_count": 1,
   "metadata": {},
   "outputs": [
    {
     "name": "stderr",
     "output_type": "stream",
     "text": [
      "Using TensorFlow backend.\n"
     ]
    }
   ],
   "source": [
    "import time\n",
    "import datetime\n",
    "import itertools\n",
    "import pickle\n",
    "\n",
    "import numpy as np\n",
    "import numpy.random as rn\n",
    "import pandas as pd\n",
    "import matplotlib.pyplot as plt\n",
    "\n",
    "from sklearn.model_selection import train_test_split\n",
    "\n",
    "import keras.backend as K\n",
    "from keras.preprocessing.text import Tokenizer\n",
    "from keras.preprocessing.sequence import pad_sequences\n",
    "from keras.models import Model\n",
    "from keras import layers\n",
    "from keras.layers import Input, Embedding, LSTM, GRU, Bidirectional, Conv1D, Dense\n",
    "from keras.layers import Dropout, BatchNormalization, Flatten, Reshape, Lambda, dot, add\n",
    "from keras.regularizers import l2\n",
    "from keras.optimizers import Adadelta\n",
    "from keras.activations import selu\n",
    "from keras.callbacks import Callback,ModelCheckpoint\n",
    "np.random.seed(1234)\n",
    "\n",
    "## Loading word word_2_vec embeddings from file, Dimensional length - 300\n",
    "with open('word_2_vec.pkl', 'rb') as input:\n",
    "    word_2_vec = pickle.load(input)"
   ]
  },
  {
   "cell_type": "code",
   "execution_count": 2,
   "metadata": {},
   "outputs": [],
   "source": [
    "MODEL_WEIGHTS_FILE = 'question_pairs_weights.h5'\n",
    "FRACTION_OF_DATA=0.01\n",
    "SENTENCE_LEN = 20\n",
    "EMBEDDING_LEN = 300\n",
    "VALIDATION_SPLIT = 0.1\n",
    "TEST_SPLIT = 0.05"
   ]
  },
  {
   "cell_type": "code",
   "execution_count": 3,
   "metadata": {},
   "outputs": [],
   "source": [
    "df = pd.read_csv('filtered.csv',encoding = \"ISO-8859-1\")\n",
    "questions_cols = ['q1', 'q2']\n",
    "df=df.sample(frac=FRACTION_OF_DATA)  ## Samples 1 percent of data from the original dataframe without replacement"
   ]
  },
  {
   "cell_type": "code",
   "execution_count": 4,
   "metadata": {},
   "outputs": [],
   "source": [
    "## Creates a dictionary of (index,word) pairs\n",
    "tokenizer = Tokenizer()\n",
    "tokenizer.fit_on_texts(df['q1'].tolist()+df['q2'].tolist())\n",
    "\n",
    "## Replaces every word in the question with the index of the word in the dictionary.\n",
    "df['q1'] = tokenizer.texts_to_sequences(df['q1'])\n",
    "df['q2'] = tokenizer.texts_to_sequences(df['q2'])\n",
    "\n",
    "## Dictionary of (index,word) pairs\n",
    "vocabulary = tokenizer.word_index\n",
    "\n",
    "## Initialing embeddings matrix with random values\n",
    "embeddings = 1 * np.random.randn(len(vocabulary) + 1, EMBEDDING_LEN)  \n",
    "embeddings[0] = 0      ## Embedding vector for unrecognized words\n",
    "\n",
    "## Filling up the embedding matrix with actual embedding values\n",
    "for word, index in vocabulary.items():\n",
    "    if word in word_2_vec:\n",
    "        embeddings[index] = word_2_vec[word]\n",
    "    else:\n",
    "        print(word)"
   ]
  },
  {
   "cell_type": "code",
   "execution_count": 5,
   "metadata": {},
   "outputs": [],
   "source": [
    "# Split to train validation\n",
    "X = df[questions_cols]\n",
    "Y = df['is_duplicate']\n",
    "\n",
    "X_train, X_test, Y_train, Y_test = train_test_split(X,Y,test_size=TEST_SPLIT)\n",
    "X_train, X_validation, Y_train, Y_validation = train_test_split(X_train, Y_train, test_size=VALIDATION_SPLIT)\n",
    "\n",
    "# Split to dicts\n",
    "X_train      = {'left': X_train.q1,      'right': X_train.q2}\n",
    "X_validation = {'left': X_validation.q1, 'right': X_validation.q2}\n",
    "X_test       = {'left': X_test.q1,       'right': X_test.q2}\n",
    "\n",
    "# Convert labels to their numpy representations\n",
    "Y_train      = Y_train.values\n",
    "Y_validation = Y_validation.values\n",
    "Y_test       = Y_test.values\n",
    "\n",
    "# Zero padding\n",
    "for dataset, side in itertools.product([X_train, X_validation, X_test], ['left', 'right']):\n",
    "    dataset[side] = pad_sequences(dataset[side],  maxlen=SENTENCE_LEN)"
   ]
  },
  {
   "cell_type": "code",
   "execution_count": 6,
   "metadata": {},
   "outputs": [],
   "source": [
    "# Model variables\n",
    "DROPOUT = 0.2\n",
    "NODES = 50\n",
    "GRADIENT_CLIP_NORM = 1.25\n",
    "BATCH_SIZE = 64\n",
    "EPOCHS = 2\n",
    "\n",
    "## exponent_neg_manhattan_distance\n",
    "def distance_ENM(left, right):\n",
    "    return K.exp(-K.sum(K.abs(left-right), axis=1, keepdims=True))\n",
    "## Does not work yet\n",
    "def distance_Cosine(left, right):\n",
    "    left = K.l2_normalize(left, axis=-1)\n",
    "    right = K.l2_normalize(right, axis=-1)\n",
    "    return K.mean(1 - K.sum((left * right), axis=-1),axis=-1)"
   ]
  },
  {
   "cell_type": "code",
   "execution_count": null,
   "metadata": {},
   "outputs": [
    {
     "name": "stdout",
     "output_type": "stream",
     "text": [
      "Starting training at  2018-10-29 20:22:05.869168\n",
      "Train on 2875 samples, validate on 320 samples\n",
      "Epoch 1/3\n"
     ]
    }
   ],
   "source": [
    "## https://github.com/bradleypallen/keras-quora-question-pairs/blob/master/quora-question-pairs-training-attention.ipynb\n",
    "def Attention_Model():\n",
    "    question1 = Input(shape=(SENTENCE_LEN,))\n",
    "    question2 = Input(shape=(SENTENCE_LEN,))\n",
    "\n",
    "    q1 = Embedding(len(embeddings), \n",
    "                     EMBEDDING_LEN, \n",
    "                     weights=[embeddings], \n",
    "                     input_length=SENTENCE_LEN, \n",
    "                     trainable=False)(question1)\n",
    "    q1 = Bidirectional(LSTM(EMBEDDING_LEN, return_sequences=True), merge_mode=\"sum\")(q1)\n",
    "\n",
    "    q2 = Embedding(len(embeddings), \n",
    "                     EMBEDDING_LEN, \n",
    "                     weights=[embeddings], \n",
    "                     input_length=SENTENCE_LEN, \n",
    "                     trainable=False)(question2)\n",
    "    q2 = Bidirectional(LSTM(EMBEDDING_LEN, return_sequences=True), merge_mode=\"sum\")(q2)\n",
    "\n",
    "    attention = dot([q1,q2], [1,1])\n",
    "    attention = Flatten()(attention)\n",
    "    attention = Dense((SENTENCE_LEN*EMBEDDING_LEN))(attention)\n",
    "    attention = Reshape((SENTENCE_LEN, EMBEDDING_LEN))(attention)\n",
    "\n",
    "    merged = add([q1,attention])\n",
    "    merged = Flatten()(merged)\n",
    "    merged = Dense(NODES, activation='relu')(merged)\n",
    "    merged = Dropout(DROPOUT)(merged)\n",
    "    merged = BatchNormalization()(merged)\n",
    "    merged = Dense(NODES, activation='relu')(merged)\n",
    "    merged = Dropout(DROPOUT)(merged)\n",
    "    merged = BatchNormalization()(merged)\n",
    "\n",
    "    is_duplicate = Dense(1, activation='sigmoid')(merged)\n",
    "\n",
    "    model = Model(inputs=[question1,question2], outputs=is_duplicate)\n",
    "    return model\n",
    "#model=Attention_Model()\n",
    "model.compile(loss='binary_crossentropy', optimizer='adam', metrics=['accuracy'])\n",
    "\n",
    "print(\"Starting training at \", datetime.datetime.now())\n",
    "t0 = time.time()\n",
    "callbacks = [ModelCheckpoint(MODEL_WEIGHTS_FILE, monitor='val_acc', save_best_only=True)]\n",
    "history = model.fit([X_train['left'], X_train['right']],\n",
    "                    Y_train,\n",
    "                    epochs=EPOCHS,\n",
    "                    validation_data=([X_validation['left'], X_validation['right']], Y_validation),\n",
    "                    verbose=2,\n",
    "                    batch_size=BATCH_SIZE,\n",
    "                    callbacks=callbacks)\n",
    "t1 = time.time()\n",
    "print(\"Training ended at\", datetime.datetime.now())\n",
    "print(\"Minutes elapsed: %f\" % ((t1 - t0) / 60.))\n",
    "#model.summary()"
   ]
  },
  {
   "cell_type": "code",
   "execution_count": 11,
   "metadata": {},
   "outputs": [
    {
     "name": "stdout",
     "output_type": "stream",
     "text": [
      "Train on 2875 samples, validate on 320 samples\n",
      "Epoch 1/2\n",
      "2875/2875 [==============================] - 10s 4ms/step - loss: 0.2466 - acc: 0.6369 - val_loss: 0.2345 - val_acc: 0.6594\n",
      "Epoch 2/2\n",
      "2875/2875 [==============================] - 3s 881us/step - loss: 0.2317 - acc: 0.6515 - val_loss: 0.2274 - val_acc: 0.6594\n"
     ]
    }
   ],
   "source": [
    "## https://blog.keras.io/using-pre-trained-word-embeddings-in-a-keras-model.html\n",
    "## https://medium.com/mlreview/implementing-malstm-on-kaggles-quora-question-pairs-competition-8b31b0b16a07\n",
    "def LSTM_Model():\n",
    "    # The visible layer\n",
    "    left_input = Input(shape=(SENTENCE_LEN,), dtype='int32')\n",
    "    right_input = Input(shape=(SENTENCE_LEN,), dtype='int32')\n",
    "\n",
    "    embedding_layer = Embedding(len(embeddings), EMBEDDING_LEN, weights=[embeddings], input_length=SENTENCE_LEN, trainable=False)\n",
    "\n",
    "    # Embedded version of the inputs\n",
    "    encoded_left = embedding_layer(left_input)\n",
    "    encoded_right = embedding_layer(right_input)\n",
    "\n",
    "    # Since this is a siamese network, both sides share the same LSTM\n",
    "    shared_lstm = LSTM(NODES)\n",
    "\n",
    "    left_output = shared_lstm(encoded_left)\n",
    "    right_output = shared_lstm(encoded_right)\n",
    "\n",
    "    # Calculates the distance as defined by the MaLSTM model\n",
    "    distance = Lambda(function=lambda x: distance_ENM(x[0], x[1]),output_shape=lambda x: (x[0][0], 1))([left_output, right_output])\n",
    "\n",
    "    # Pack it all up into a model\n",
    "    model = Model([left_input, right_input], [distance])\n",
    "    return model\n",
    "\n",
    "model=LSTM_Model()\n",
    "model.compile(loss='mean_squared_error', optimizer=Adadelta(clipnorm=GRADIENT_CLIP_NORM), metrics=['accuracy'])\n",
    "\n",
    "model = model.fit([X_train['left'], X_train['right']], Y_train, batch_size=BATCH_SIZE, epochs=EPOCHS,\n",
    "                            validation_data=([X_validation['left'], X_validation['right']], Y_validation))"
   ]
  },
  {
   "cell_type": "code",
   "execution_count": 19,
   "metadata": {},
   "outputs": [
    {
     "data": {
      "image/png": "[encoded data removed]",
      "text/plain": [
       "<matplotlib.figure.Figure at 0x63a0372eb8>"
      ]
     },
     "metadata": {
      "needs_background": "light"
     },
     "output_type": "display_data"
    }
   ],
   "source": [
    "# Plot loss\n",
    "plt.plot(model.history['loss'])\n",
    "plt.plot(model.history['val_loss'])\n",
    "plt.title('Model Loss')\n",
    "plt.ylabel('Loss')\n",
    "plt.xlabel('Epoch')\n",
    "plt.legend(['Train', 'Validation'], loc='upper right')\n",
    "plt.show()"
   ]
  },
  {
   "cell_type": "code",
   "execution_count": null,
   "metadata": {
    "collapsed": true
   },
   "outputs": [],
   "source": [
    "## Constructing word index and embedding matrix manually\n",
    "vocabulary = {}\n",
    "inverse_vocabulary = ['<unk>']\n",
    "# Iterate over the questions only of both training and test datasets\n",
    "for dataset in [train, test]:\n",
    "    for index, row in dataset.iterrows():\n",
    "        # Iterate through the text of both questions of the row\n",
    "        for question in questions_cols:\n",
    "\n",
    "            q2n = []  # q2n -> question numbers representation\n",
    "            for word in (row[question]).split(' '):\n",
    "                # Check for unwanted words\n",
    "                #if word in stops and word not in word2vec.vocab:\n",
    "                #    continue\n",
    "                if word not in vocabulary:\n",
    "                    vocabulary[word] = len(inverse_vocabulary)\n",
    "                    q2n.append(len(inverse_vocabulary))\n",
    "                    inverse_vocabulary.append(word)\n",
    "                else:\n",
    "                    q2n.append(vocabulary[word])\n",
    "            # Replace questions with lists of word indices\n",
    "            dataset.set_value(index, question, q2n)\n",
    "\n",
    "embeddings = 1 * np.random.randn(len(vocabulary) + 1, 300)  \n",
    "embeddings[0] = 0\n",
    "\n",
    "for word, index in vocabulary.items():\n",
    "    if word in word_2_vec:\n",
    "        embeddings[index] = word_2_vec[word]\n",
    "    else:\n",
    "        print(word)"
   ]
  },
  {
   "cell_type": "code",
   "execution_count": null,
   "metadata": {
    "collapsed": true
   },
   "outputs": [],
   "source": [
    "import os\n",
    "from IPython.display import SVG\n",
    "from keras.utils.vis_utils import model_to_dot\n",
    "from keras.utils.vis_utils import plot_model\n",
    "\n",
    "os.environ[\"PATH\"] += os.pathsep + 'C:/Program Files (x86)/graphviz-2.38/release/bin/'\n",
    "\n",
    "## Save to file\n",
    "plot_model(model, to_file='model_plot.png', show_shapes=True, show_layer_names=True)\n",
    "\n",
    "\n",
    "## Draw model architecture\n",
    "SVG(model_to_dot(model).create(prog='dot', format='svg'))\n",
    "model.summary()\n",
    "\n",
    "# load json and create model\n",
    "from keras.models import model_from_json\n",
    "\n",
    "with open('model.json', 'r') as json_file:\n",
    "    model = model_from_json(json_file.read())\n",
    "\n",
    "# load weights into new model\n",
    "model.load_weights(\"model.h5\")\n",
    "\n",
    "model.compile(loss='binary_crossentropy', optimizer='rmsprop', metrics=['accuracy'])\n",
    "model = model.fit([X_train['left'], X_train['right']], Y_train, batch_size=batch_size, epochs=EPOCHS,\n",
    "                            validation_data=([X_validation['left'], X_validation['right']], Y_validation))\n",
    "score = model.evaluate(X, Y, verbose=0)\n",
    "\n",
    "# serialize model to JSON\n",
    "model_json = model.to_json()\n",
    "with open(\"model.json\", \"w\") as json_file:\n",
    "    json_file.write(model_json)\n",
    "    \n",
    "# serialize weights to HDF5\n",
    "model.save_weights(\"model.h5\")"
   ]
  }
 ],
 "metadata": {
  "kernelspec": {
   "display_name": "Python 3",
   "language": "python",
   "name": "python3"
  },
  "language_info": {
   "codemirror_mode": {
    "name": "ipython",
    "version": 3
   },
   "file_extension": ".py",
   "mimetype": "text/x-python",
   "name": "python",
   "nbconvert_exporter": "python",
   "pygments_lexer": "ipython3",
   "version": "3.5.2"
  }
 },
 "nbformat": 4,
 "nbformat_minor": 2
}
