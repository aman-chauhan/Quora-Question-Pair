{
 "cells": [
  {
   "cell_type": "markdown",
   "metadata": {},
   "source": [
    "# Logistic Regression"
   ]
  },
  {
   "cell_type": "markdown",
   "metadata": {},
   "source": [
    "## Import Libraries"
   ]
  },
  {
   "cell_type": "code",
   "execution_count": null,
   "metadata": {},
   "outputs": [],
   "source": [
    "from sklearn.metrics import accuracy_score, f1_score, precision_score, recall_score\n",
    "from sklearn.model_selection import StratifiedKFold\n",
    "\n",
    "from keras.callbacks import ModelCheckpoint\n",
    "from keras.callbacks import EarlyStopping\n",
    "from keras.callbacks import TensorBoard\n",
    "from keras.regularizers import l1_l2\n",
    "from keras.layers import Input\n",
    "from keras.layers import Dense\n",
    "from keras.models import Model\n",
    "from keras import backend as K\n",
    "\n",
    "import numpy as np\n",
    "import pandas as pd\n",
    "import pickle\n",
    "import json\n",
    "import sys\n",
    "import os"
   ]
  },
  {
   "cell_type": "markdown",
   "metadata": {},
   "source": [
    "## Load the data"
   ]
  },
  {
   "cell_type": "code",
   "execution_count": null,
   "metadata": {},
   "outputs": [],
   "source": [
    "train = pd.read_csv('pca_train_2.csv').fillna('').values\n",
    "test = pd.read_csv('pca_test_2.csv').fillna('').values"
   ]
  },
  {
   "cell_type": "markdown",
   "metadata": {},
   "source": [
    "## Split into X and Y"
   ]
  },
  {
   "cell_type": "code",
   "execution_count": null,
   "metadata": {},
   "outputs": [],
   "source": [
    "X_train, Y_train = train[:,:-1], train[:,-1:]\n",
    "X_test, Y_test = test[:,:-1], test[:,-1:]"
   ]
  },
  {
   "cell_type": "markdown",
   "metadata": {},
   "source": [
    "## Logistic Regression Model"
   ]
  },
  {
   "cell_type": "code",
   "execution_count": null,
   "metadata": {},
   "outputs": [],
   "source": [
    "def logistic(C):\n",
    "    input_layer = Input(batch_shape=(None, 8), name='C_{}_input'.format(C))\n",
    "    output_layer = Dense(1, activation='sigmoid',\n",
    "                         kernel_regularizer=l1_l2(l1=C, l2=C), \n",
    "                         kernel_initializer='he_uniform',\n",
    "                         bias_initializer='he_uniform',\n",
    "                         name='C_{}_output'.format(C))(input_layer)\n",
    "    return Model(inputs=input_layer, outputs=output_layer, name='C_{}')"
   ]
  },
  {
   "cell_type": "markdown",
   "metadata": {},
   "source": [
    "## 5-fold Cross Validation"
   ]
  },
  {
   "cell_type": "code",
   "execution_count": null,
   "metadata": {
    "scrolled": false
   },
   "outputs": [],
   "source": [
    "C=[0.001, 0.01, 0.1, 1, 10, 100]\n",
    "for c in C:\n",
    "    skf = StratifiedKFold(n_splits=5, shuffle=True, random_state=10)\n",
    "    cnt = 0\n",
    "    val_acc = []\n",
    "    print('Training for C={}\\n'.format(c))\n",
    "    for train_index, valid_index in skf.split(X_train, Y_train, Y_train):\n",
    "        cnt += 1\n",
    "        K.clear_session()\n",
    "        print('Fold {}'.format(cnt))\n",
    "        key = 'logistic_C{}_fold{}'.format(c, cnt)\n",
    "        x_train, y_train = X_train[train_index], Y_train[train_index]\n",
    "        x_valid, y_valid = X_train[valid_index], Y_train[valid_index]\n",
    "        model = logistic(c)\n",
    "        model.compile('rmsprop', 'binary_crossentropy', ['accuracy'])\n",
    "        if not os.path.exists(os.path.join('logs', '{}_log'.format(key))):\n",
    "            os.mkdir(os.path.join('logs', '{}_log'.format(key)))\n",
    "        checkpoint = ModelCheckpoint(filepath=os.path.join('models', '{}.h5'.format(key)),\n",
    "                                     monitor='val_acc', save_best_only=True)\n",
    "        earlystop = EarlyStopping(monitor='val_acc', patience=5, mode='max', restore_best_weights=True)\n",
    "        tensorboard = TensorBoard(log_dir=os.path.join('logs', '{}_log'.format(key)),\n",
    "                                  histogram_freq=1, batch_size=64, write_graph=False,\n",
    "                                  write_grads=False, write_images=True)\n",
    "        model.fit(x=x_train, y=y_train, batch_size=64, epochs=20,\n",
    "                  callbacks=[tensorboard, earlystop, checkpoint],\n",
    "                  validation_data=(x_valid, y_valid), shuffle=True, verbose=2)\n",
    "        eval_results = model.evaluate(x=x_valid, y=y_valid, batch_size=1123, verbose=0)\n",
    "        val_acc.append(eval_results[1]*x_valid.shape[0])\n",
    "        print()\n",
    "    d = {}\n",
    "    if os.path.exists('scores.json'):\n",
    "        d = json.load(open('scores.json'))\n",
    "    d['logistic_C{}'.format(c)] = sum(val_acc)/X_train.shape[0]\n",
    "    json.dump(d, open('scores.json', 'w'))\n",
    "    print('\\n')"
   ]
  },
  {
   "cell_type": "markdown",
   "metadata": {},
   "source": [
    "## Full-Training with C=10"
   ]
  },
  {
   "cell_type": "code",
   "execution_count": null,
   "metadata": {},
   "outputs": [],
   "source": [
    "key = 'logistic_C{}'.format(10)\n",
    "model = logistic(C=10)\n",
    "model.compile('rmsprop', 'binary_crossentropy', ['accuracy'])\n",
    "if not os.path.exists(os.path.join('logs', '{}_log'.format(key))):\n",
    "    os.mkdir(os.path.join('logs', '{}_log'.format(key)))\n",
    "checkpoint = ModelCheckpoint(filepath=os.path.join('models', '{}.h5'.format(key)),\n",
    "                             monitor='acc', save_best_only=True)\n",
    "earlystop = EarlyStopping(monitor='acc', patience=5, mode='max', restore_best_weights=True)\n",
    "tensorboard = TensorBoard(log_dir=os.path.join('logs', '{}_log'.format(key)),\n",
    "                          histogram_freq=0, batch_size=64, write_graph=False,\n",
    "                          write_grads=False, write_images=True)\n",
    "history = model.fit(x=X_train, y=Y_train, batch_size=64, epochs=20,\n",
    "                    callbacks=[tensorboard, earlystop, checkpoint],\n",
    "                    shuffle=True, verbose=1)"
   ]
  },
  {
   "cell_type": "markdown",
   "metadata": {},
   "source": [
    "## Testing on Test Data"
   ]
  },
  {
   "cell_type": "code",
   "execution_count": null,
   "metadata": {},
   "outputs": [],
   "source": [
    "results = model.evaluate(X_test, Y_test, batch_size=64, verbose=1)\n",
    "print('{:.4f}'.format(results[1]))"
   ]
  }
 ],
 "metadata": {
  "kernelspec": {
   "display_name": "Python 3",
   "language": "python",
   "name": "python3"
  },
  "language_info": {
   "codemirror_mode": {
    "name": "ipython",
    "version": 3
   },
   "file_extension": ".py",
   "mimetype": "text/x-python",
   "name": "python",
   "nbconvert_exporter": "python",
   "pygments_lexer": "ipython3",
   "version": "3.6.5"
  }
 },
 "nbformat": 4,
 "nbformat_minor": 2
}
