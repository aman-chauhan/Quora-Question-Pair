{
 "cells": [
  {
   "cell_type": "markdown",
   "metadata": {
    "toc": true
   },
   "source": [
    "<h1>Quora Question Pairs<span class=\"tocSkip\"></span></h1>\n",
    "<div class=\"toc\"><ul class=\"toc-item\"><li><span><a href=\"#Introduction\" data-toc-modified-id=\"Introduction-1\"><span class=\"toc-item-num\">1&nbsp;&nbsp;</span>Introduction<br></a></span></li><li><span><a href=\"#Imports\" data-toc-modified-id=\"Imports-2\"><span class=\"toc-item-num\">2&nbsp;&nbsp;</span>Imports</a></span></li><li><span><a href=\"#Load-the-word-embeddings/word-vectors.\" data-toc-modified-id=\"Load-the-word-embeddings/word-vectors.-3\"><span class=\"toc-item-num\">3&nbsp;&nbsp;</span>Load the word embeddings/word vectors.</a></span></li><li><span><a href=\"#Load-the-data\" data-toc-modified-id=\"Load-the-data-4\"><span class=\"toc-item-num\">4&nbsp;&nbsp;</span>Load the data</a></span><ul class=\"toc-item\"><li><span><a href=\"#Removing-rows-with-NaNs\" data-toc-modified-id=\"Removing-rows-with-NaNs-4.1\"><span class=\"toc-item-num\">4.1&nbsp;&nbsp;</span>Removing rows with NaNs</a></span></li><li><span><a href=\"#Sampling\" data-toc-modified-id=\"Sampling-4.2\"><span class=\"toc-item-num\">4.2&nbsp;&nbsp;</span>Sampling<br></a></span></li><li><span><a href=\"#Removing-irrelevant-attributes\" data-toc-modified-id=\"Removing-irrelevant-attributes-4.3\"><span class=\"toc-item-num\">4.3&nbsp;&nbsp;</span>Removing irrelevant attributes<br></a></span></li><li><span><a href=\"#Sentence-length-distribution\" data-toc-modified-id=\"Sentence-length-distribution-4.4\"><span class=\"toc-item-num\">4.4&nbsp;&nbsp;</span>Sentence length distribution</a></span></li></ul></li><li><span><a href=\"#Text-Cleaning\" data-toc-modified-id=\"Text-Cleaning-5\"><span class=\"toc-item-num\">5&nbsp;&nbsp;</span>Text Cleaning</a></span></li><li><span><a href=\"#Finding-the-most-frequent-words-not-in-our-vocabulary\" data-toc-modified-id=\"Finding-the-most-frequent-words-not-in-our-vocabulary-6\"><span class=\"toc-item-num\">6&nbsp;&nbsp;</span>Finding the most frequent words not in our vocabulary<br></a></span></li><li><span><a href=\"#Tokenize-text-and-create-embedding-dictionary\" data-toc-modified-id=\"Tokenize-text-and-create-embedding-dictionary-7\"><span class=\"toc-item-num\">7&nbsp;&nbsp;</span>Tokenize text and create embedding dictionary</a></span></li><li><span><a href=\"#Utility-functions\" data-toc-modified-id=\"Utility-functions-8\"><span class=\"toc-item-num\">8&nbsp;&nbsp;</span>Utility functions</a></span></li><li><span><a href=\"#Approach-1:-Average-word-vectors\" data-toc-modified-id=\"Approach-1:-Average-word-vectors-9\"><span class=\"toc-item-num\">9&nbsp;&nbsp;</span>Approach 1: Average word vectors</a></span><ul class=\"toc-item\"><li><span><a href=\"#Creating-features-by-averaging-word-embeddings\" data-toc-modified-id=\"Creating-features-by-averaging-word-embeddings-9.1\"><span class=\"toc-item-num\">9.1&nbsp;&nbsp;</span>Creating features by averaging word embeddings</a></span></li><li><span><a href=\"#Splitting-the-data-into-train,-test-and-validation-datasets.\" data-toc-modified-id=\"Splitting-the-data-into-train,-test-and-validation-datasets.-9.2\"><span class=\"toc-item-num\">9.2&nbsp;&nbsp;</span>Splitting the data into train, test and validation datasets.<br></a></span></li><li><span><a href=\"#Logistic-Regression\" data-toc-modified-id=\"Logistic-Regression-9.3\"><span class=\"toc-item-num\">9.3&nbsp;&nbsp;</span>Logistic Regression</a></span></li><li><span><a href=\"#Gaussian-NaiveBayes\" data-toc-modified-id=\"Gaussian-NaiveBayes-9.4\"><span class=\"toc-item-num\">9.4&nbsp;&nbsp;</span>Gaussian NaiveBayes</a></span></li><li><span><a href=\"#Random-Forest\" data-toc-modified-id=\"Random-Forest-9.5\"><span class=\"toc-item-num\">9.5&nbsp;&nbsp;</span>Random Forest</a></span></li><li><span><a href=\"#Feed-forward-Neural-network\" data-toc-modified-id=\"Feed-forward-Neural-network-9.6\"><span class=\"toc-item-num\">9.6&nbsp;&nbsp;</span>Feed forward Neural network</a></span></li></ul></li><li><span><a href=\"#Approach-2:-RNN-Models\" data-toc-modified-id=\"Approach-2:-RNN-Models-10\"><span class=\"toc-item-num\">10&nbsp;&nbsp;</span>Approach 2: RNN Models</a></span><ul class=\"toc-item\"><li><span><a href=\"#Splitting-and-zero-padding.\" data-toc-modified-id=\"Splitting-and-zero-padding.-10.1\"><span class=\"toc-item-num\">10.1&nbsp;&nbsp;</span>Splitting and zero padding.</a></span></li><li><span><a href=\"#LSTM-Classifier\" data-toc-modified-id=\"LSTM-Classifier-10.2\"><span class=\"toc-item-num\">10.2&nbsp;&nbsp;</span>LSTM Classifier</a></span></li><li><span><a href=\"#Attention-Model\" data-toc-modified-id=\"Attention-Model-10.3\"><span class=\"toc-item-num\">10.3&nbsp;&nbsp;</span>Attention Model</a></span></li></ul></li><li><span><a href=\"#Results\" data-toc-modified-id=\"Results-11\"><span class=\"toc-item-num\">11&nbsp;&nbsp;</span>Results</a></span></li><li><span><a href=\"#Conclusion\" data-toc-modified-id=\"Conclusion-12\"><span class=\"toc-item-num\">12&nbsp;&nbsp;</span>Conclusion</a></span><ul class=\"toc-item\"><li><ul class=\"toc-item\"><li><span><a href=\"#Explain-why-certain-models-perform-poorly\" data-toc-modified-id=\"Explain-why-certain-models-perform-poorly-12.0.1\"><span class=\"toc-item-num\">12.0.1&nbsp;&nbsp;</span>Explain why certain models perform poorly</a></span></li><li><span><a href=\"#Explain-why-certain-models-perform-well\" data-toc-modified-id=\"Explain-why-certain-models-perform-well-12.0.2\"><span class=\"toc-item-num\">12.0.2&nbsp;&nbsp;</span>Explain why certain models perform well</a></span></li><li><span><a href=\"#Overfitting-and-underfitting\" data-toc-modified-id=\"Overfitting-and-underfitting-12.0.3\"><span class=\"toc-item-num\">12.0.3&nbsp;&nbsp;</span>Overfitting and underfitting</a></span></li></ul></li></ul></li><li><span><a href=\"#References\" data-toc-modified-id=\"References-13\"><span class=\"toc-item-num\">13&nbsp;&nbsp;</span>References<br></a></span></li></ul></div>"
   ]
  },
  {
   "cell_type": "markdown",
   "metadata": {},
   "source": [
    "## Introduction<br>\n",
    "Quora Question Pairs : Can you identify question pairs that have the same intent?<br>\n",
    "Link to the original Kaggle competition: https://www.kaggle.com/c/quora-question-pairs<br>"
   ]
  },
  {
   "cell_type": "markdown",
   "metadata": {},
   "source": [
    "The problem is about identifying question pairs with the same intent. The dataset was released by Quora on Kaggle as a standard data science competition.The questions in the dataset are actual Quora questions asked by real users and the data is noisy. There are punctuation,grammatical errors, nouns, special characters and numbers that might not be found in the standard English Dictionary.<br>An important thing note is that the problem is not about identifying related questions. Two questions may be similar or related but might not have the same intent. Questions that are syntactically or semantically similar may not necessarily be of the same intent.<br>In this notebook, we mainly explore two approaches of solving the problem. In the first approach, we take the average of embeddings of all words in a sentence and use them as features to train classification models. In the second approach, we build LSTM and Attention sequence models for predicting if two questions have the same intent. Finally, we plot ROC curves to compare these models.<br>\n",
    "<br>"
   ]
  },
  {
   "cell_type": "markdown",
   "metadata": {},
   "source": [
    " ## Imports"
   ]
  },
  {
   "cell_type": "code",
   "execution_count": 1,
   "metadata": {
    "cell_style": "center"
   },
   "outputs": [
    {
     "name": "stderr",
     "output_type": "stream",
     "text": [
      "c:\\users\\poovanna\\appdata\\local\\programs\\python\\python35\\lib\\site-packages\\sklearn\\ensemble\\weight_boosting.py:29: DeprecationWarning: numpy.core.umath_tests is an internal NumPy module and should not be imported. It will be removed in a future NumPy release.\n",
      "  from numpy.core.umath_tests import inner1d\n",
      "Using TensorFlow backend.\n"
     ]
    }
   ],
   "source": [
    "import numpy as np\n",
    "import pandas as pd\n",
    "import nltk\n",
    "import re\n",
    "import pickle\n",
    "import time\n",
    "import datetime\n",
    "from collections import defaultdict, Counter\n",
    "from string import punctuation\n",
    "import numpy.random as rn\n",
    "\n",
    "import matplotlib.pyplot as plt\n",
    "%matplotlib inline\n",
    "\n",
    "from nltk import pos_tag\n",
    "from nltk.corpus import stopwords\n",
    "from nltk.stem import SnowballStemmer, WordNetLemmatizer\n",
    "\n",
    "from hypopt import GridSearch\n",
    "\n",
    "from sklearn.model_selection import train_test_split, GridSearchCV\n",
    "from sklearn.linear_model import LogisticRegression\n",
    "from sklearn.metrics import confusion_matrix, classification_report,auc,roc_curve\n",
    "from sklearn.ensemble import RandomForestClassifier\n",
    "\n",
    "import keras.backend as K\n",
    "from keras.preprocessing.text import Tokenizer\n",
    "from keras.preprocessing.sequence import pad_sequences\n",
    "from keras.models import Model,Sequential,model_from_json\n",
    "from keras.layers import Input, Embedding, LSTM, GRU, Bidirectional, Conv1D, Dense, Activation\n",
    "from keras.layers import Dropout, BatchNormalization, Flatten, Reshape, Lambda, dot, add\n",
    "from keras.regularizers import l2\n",
    "from keras.optimizers import Adadelta,SGD\n",
    "from keras.activations import selu\n",
    "from keras.callbacks import Callback,ModelCheckpoint\n",
    "from keras.constraints import maxnorm\n",
    "\n",
    "np.random.seed(1234)"
   ]
  },
  {
   "cell_type": "markdown",
   "metadata": {},
   "source": [
    "## Load the word embeddings/word vectors."
   ]
  },
  {
   "cell_type": "markdown",
   "metadata": {},
   "source": [
    "word_embeddings is a dictionary with words as keys and the values are the numerical word embeddings for the word as a list.<br>\n",
    "For example, \"house\" : [ 0.45, -0.56, 0.23, ..... , 0.67 ]<br>In this notebook, we use the pretrained word2vec word embeddings from Google - https://code.google.com/archive/p/word2vec/<br>This will be our vocabulary<br>word2vec was one of the earliest and now there are better representations like Fasttext and BERT.<br>"
   ]
  },
  {
   "cell_type": "code",
   "execution_count": 2,
   "metadata": {},
   "outputs": [],
   "source": [
    "## This file contains a python dictionary of 300 dimensional word vectors\n",
    "WORD_EMBEDDING_FILE=\"word_2_vec.pkl\"\n",
    "EMBEDDING_LEN=300\n",
    "\n",
    "## Load word embeddings from file\n",
    "with open(WORD_EMBEDDING_FILE, 'rb') as input:\n",
    "    word_embeddings = pickle.load(input)"
   ]
  },
  {
   "cell_type": "markdown",
   "metadata": {},
   "source": [
    "## Load the data"
   ]
  },
  {
   "cell_type": "code",
   "execution_count": 3,
   "metadata": {},
   "outputs": [
    {
     "name": "stdout",
     "output_type": "stream",
     "text": [
      "Size of the dataset:  (404290, 6)\n",
      "Columns:  Index(['id', 'qid1', 'qid2', 'question1', 'question2', 'is_duplicate'], dtype='object')\n"
     ]
    }
   ],
   "source": [
    "df = pd.read_csv('Dataset/train.csv')\n",
    "print(\"Size of the dataset: \", df.shape)\n",
    "print(\"Columns: \",df.columns)"
   ]
  },
  {
   "cell_type": "markdown",
   "metadata": {},
   "source": [
    "### Removing rows with NaNs"
   ]
  },
  {
   "cell_type": "code",
   "execution_count": 4,
   "metadata": {},
   "outputs": [
    {
     "data": {
      "text/html": [
       "<div>\n",
       "<style>\n",
       "    .dataframe thead tr:only-child th {\n",
       "        text-align: right;\n",
       "    }\n",
       "\n",
       "    .dataframe thead th {\n",
       "        text-align: left;\n",
       "    }\n",
       "\n",
       "    .dataframe tbody tr th {\n",
       "        vertical-align: top;\n",
       "    }\n",
       "</style>\n",
       "<table border=\"1\" class=\"dataframe\">\n",
       "  <thead>\n",
       "    <tr style=\"text-align: right;\">\n",
       "      <th></th>\n",
       "      <th>id</th>\n",
       "      <th>qid1</th>\n",
       "      <th>qid2</th>\n",
       "      <th>question1</th>\n",
       "      <th>question2</th>\n",
       "      <th>is_duplicate</th>\n",
       "    </tr>\n",
       "  </thead>\n",
       "  <tbody>\n",
       "    <tr>\n",
       "      <th>105780</th>\n",
       "      <td>105780</td>\n",
       "      <td>174363</td>\n",
       "      <td>174364</td>\n",
       "      <td>How can I develop android app?</td>\n",
       "      <td>NaN</td>\n",
       "      <td>0</td>\n",
       "    </tr>\n",
       "    <tr>\n",
       "      <th>201841</th>\n",
       "      <td>201841</td>\n",
       "      <td>303951</td>\n",
       "      <td>174364</td>\n",
       "      <td>How can I create an Android app?</td>\n",
       "      <td>NaN</td>\n",
       "      <td>0</td>\n",
       "    </tr>\n",
       "  </tbody>\n",
       "</table>\n",
       "</div>"
      ],
      "text/plain": [
       "            id    qid1    qid2                         question1 question2  \\\n",
       "105780  105780  174363  174364    How can I develop android app?       NaN   \n",
       "201841  201841  303951  174364  How can I create an Android app?       NaN   \n",
       "\n",
       "        is_duplicate  \n",
       "105780             0  \n",
       "201841             0  "
      ]
     },
     "execution_count": 4,
     "metadata": {},
     "output_type": "execute_result"
    }
   ],
   "source": [
    "df[df.isnull().T.any().T]"
   ]
  },
  {
   "cell_type": "code",
   "execution_count": 5,
   "metadata": {},
   "outputs": [],
   "source": [
    "df=df.dropna()"
   ]
  },
  {
   "cell_type": "markdown",
   "metadata": {},
   "source": [
    "### Sampling<br>\n",
    "We use only a subset of the entire dataset for efficiency reasons."
   ]
  },
  {
   "cell_type": "code",
   "execution_count": 6,
   "metadata": {},
   "outputs": [],
   "source": [
    "df=df.sample(frac=0.07,replace=False)"
   ]
  },
  {
   "cell_type": "markdown",
   "metadata": {},
   "source": [
    "### Removing irrelevant attributes<br>\n",
    "The qid columns will be excluded from the dataframe."
   ]
  },
  {
   "cell_type": "code",
   "execution_count": 7,
   "metadata": {},
   "outputs": [],
   "source": [
    "q1=\"question1\"\n",
    "q2=\"question2\"\n",
    "is_duplicate='is_duplicate'\n",
    "\n",
    "df=df[[q1,q2,is_duplicate]]"
   ]
  },
  {
   "cell_type": "markdown",
   "metadata": {},
   "source": [
    "### Sentence length distribution"
   ]
  },
  {
   "cell_type": "code",
   "execution_count": 8,
   "metadata": {},
   "outputs": [
    {
     "data": {
      "text/plain": [
       "\"\\nplt.hist(df[q1].apply(lambda x:len(x))+df[q2].apply(lambda x:len(x)),normed=0,bins=61,alpha=0.70)\\nplt.xlabel('Sentence Length')\\nplt.ylabel('Count')\\nplt.title('Histogram of sentence lengths')\\n#plt.axis([0, 30, 0, 800])\\n#plt.grid(True)\\nplt.show()\\n#(x, bins=n_bins, density=True)\\n\""
      ]
     },
     "execution_count": 8,
     "metadata": {},
     "output_type": "execute_result"
    }
   ],
   "source": [
    "'''\n",
    "plt.hist(df[q1].apply(lambda x:len(x))+df[q2].apply(lambda x:len(x)),normed=0,bins=61,alpha=0.70)\n",
    "plt.xlabel('Sentence Length')\n",
    "plt.ylabel('Count')\n",
    "plt.title('Histogram of sentence lengths')\n",
    "#plt.axis([0, 30, 0, 800])\n",
    "#plt.grid(True)\n",
    "plt.show()\n",
    "#(x, bins=n_bins, density=True)\n",
    "'''"
   ]
  },
  {
   "cell_type": "markdown",
   "metadata": {},
   "source": [
    "## Text Cleaning"
   ]
  },
  {
   "cell_type": "markdown",
   "metadata": {},
   "source": [
    "Some of the code here is specific to the pre-trained word vectors we use, depending on what words are present in the vocabulary.<br>\n",
    "Cleaning Steps:<br>\n",
    "(i) Convert the question to lowercase<br>\n",
    "(ii) Expand contractions,correct spelling mistakes,expand abbreviations,convert numbers to text, replace nouns with meanings<br>\n",
    "(iii) (Optional) Lemmatize the words<br>\n",
    "(iv) (Optional) Remove stopwords<br>\n",
    "(v) (Optional) Stem the words( replacing every word with its root word)<br>"
   ]
  },
  {
   "cell_type": "code",
   "execution_count": 9,
   "metadata": {},
   "outputs": [],
   "source": [
    "stop_words = set(stopwords.words('english'))\n",
    "tag_map = defaultdict(lambda : \"n\")\n",
    "tag_map['J'],tag_map['V'],tag_map['R'] = \"a\",\"v\",\"r\"\n",
    "stemmer = SnowballStemmer('english')\n",
    "lemmatizer = WordNetLemmatizer()\n",
    "\n",
    "replacements=[\n",
    "              ## Expanding contractions\n",
    "              (r\"\\b([A-Za-z]+)'s\\b\", '\\\\1 is'), (r\"\\b([A-Za-z]+)'re\\b\", '\\\\1 are'),\n",
    "              (r\"\\b([A-Za-z]+)'ve\\b\", '\\\\1 have'), (r\"\\b([A-Za-z]+)'ll\\b\", '\\\\1 will'),\n",
    "              (r\"\\b([A-Za-z]+)n't\\b\", '\\\\1 not'),\n",
    "              (\" whats \",\" what is \"),(\" whos \",\"who is \"),(\"wheres \",\"where is\"),\n",
    "              (\" whens \",\" when is \"),(\" hows \",\" how is \"),(\" im \",\" i am \"),\n",
    "              (\" hes \",\" he is \"),(\" shes \",\" she is \"),(\"thats \",\"that is \"),\n",
    "              (\"theres \",\"there is \"),(\" isnt \",\" is not \"),(\"wasnt\",\"was not\"),\n",
    "              (\" arent\",\" are not\"),(\"werent\",\"were not\"),(\" cant \",\" can not \"),\n",
    "              (\"cannot\",\"can not\"),(\"couldnt\",\"could not\"),(\" dont\",\" do not\"),\n",
    "              (\"didnt\",\"did not\"),(\"shouldnt\",\"should not\"),(\"wouldnt\",\"would not\"),\n",
    "              (\"doesnt\",\"does not\"),(\"havent\",\"have not\"),(\"hasnt\",\"has not\"),\n",
    "              (\"hadnt\",\"had not\"),\n",
    "              \n",
    "              ### Spelling mistakes\n",
    "              (\"colour\",\"color\"),(\" centre \",\" center \"),(\" grey \",\" gray \"), (\" favourite \",\" favorite \"),\n",
    "              (\" travelling \",\" traveling \"),(\"programing\", \"programming\"),(\"calender\", \"calendar\"),\n",
    "              (\"intially\", \"initially\"), (\"quikly\", \"quickly\"),(\"imrovement\", \"improvement\"),\n",
    "              (\"demonitization\", \"demonetization\"),(\"demonetisation\", \"demonetization\"),(\"demonetize\",\"demonetization\"),\n",
    "              (\"canceled\",'canceled'),(\" defence \",\" defense \"),(\"programme\",\"program\"),\n",
    "              (\"actived\", \"active\"), (\" tution\", \" tuition\"),(\"banglore\", \"bangalore\"),('behaviour','behavior'),\n",
    "              (\"bengaluru\", \"bangalore\"),('organisation','organization'),('realise','realize'),\n",
    "              ('accomodation','accommodation'),('adress','address'),('alot','a lot'),('athiest','atheist'),\n",
    "              ('beleive','believe'),('enviroment','environment'),('freind','friend'),('goverment','government'),\n",
    "              ('grammer','grammar'),('hight','height'),('independance','independence'),('intresting','interesting'),\n",
    "              ('lazer','laser'),('lightening','lightning'),('ninty','ninety'),('noone','no one'),('oppurtunity','opportunity'),\n",
    "              ('recieve','receive'),('reccomend','recommend'),('seperate','separate'),('thier','their'),\n",
    "              ('vegeterian','vegetarian'),('writen','written'),('writting','writing'),('truely','truly'),\n",
    "              ('commitee','committee'),('independant','independent'),('foriegn','foreign'),('happend','happened'),\n",
    "              ('publically','publicly'),('realy',\"really\"),('tatoo','tattoo'),('prefered','preferred'),('technologyss','technology'),\n",
    "              ('technologys','technology'),('programr','programmer'),('healtheir','healthier'),('aadhaar','aadhar'),\n",
    "              \n",
    "              ## Expanding abbreviations\n",
    "              ('aadhar','indian identity card'),\n",
    "              (\"upsc\",\"union public service commission\"),(\" ugc \",\" university grants commission \"),\n",
    "              (\" sbi \",\" state bank of india \"),(\" iit\",\" indian institute of technology\"),\n",
    "              (\" iims \",\" indian institute of management \"),(\"mca\",\"master of computer application\"),\n",
    "              (\"mds\",\"master of dental surgery\"),(\"nba\",\"national basketball association\"),\n",
    "              (\" iim\",\" indian institute of management \"),(\"mbbs\",\" bachelor of medicine bachelor of surgery \"),\n",
    "              (\"bitcoin\",\" bit coin \"),(\" iisc \",\" indian institute of science \"),\n",
    "              ('isro',\"indian space research organization\"),\n",
    "              ('toefl',\" test of english as a foreign language\"),(\"mtech\",\"master of engineering\"),\n",
    "              (\"aiims\",\" all india institutes of medical sciences\"),(\"gmat\",\"graduate management admission test\"),\n",
    "              (\" gre \",\" graduate record examinations \"),(\"mnc\",\"multinational corporation\"),\n",
    "              ('tcs','tata consultancy service'),('kvpy','indian scholarship'),\n",
    "              ('ibps','institute of banking personnel selection'),\n",
    "              ('irctc','indian railway catering and tourism corporation'),\n",
    "              ('ielts','international english language testing system'),\n",
    "              (\"brexit\",\"british exit\"),(\" bba \",\" bachelor of business administration \"),\n",
    "              (\" mba \",\" master of business administration \"),(\" obc\",\" other backward caste\"),\n",
    "              (\" cs \", \" computer science \"),(\" cse \", \" computer science \"),\n",
    "              (' ece ',' electronics and communication engineering '), (\" btech\",\" bachelor of technology\"),\n",
    "              (\" nra \",\" national rifle association \"),\n",
    "              (\"kms\", \" kilometers \"),(r\"\\0rs \", \" rupees \"),\n",
    "              (\" uk \", \" england \"),(\" u s \", \" usa \"),\n",
    "              (\"the us \", \"usa\"),(\" americaa \",\" america \"),\n",
    "              (\"e-mail\", \"email\"),(\" e mail\", \"email\"),(\" 9 11 \", \"911\"),(\" b g \", \" bg \"),\n",
    "              ('₹',' rupee '), (' txt ',\" text \"), (\"cgpa\",\"grade point average\"), (\" J K \", \" JK \"),\n",
    "              \n",
    "              (\" imessage \",\" message application \"),(' wechat ',\" chat application\"),\n",
    "              (\" ios\", \" operating system\"),(\" iPhone \", \" phone \"),(\" iphone \", \" phone \"),\n",
    "              (\" i phone \", \" phone \"),(\"watsapp\",\"whatsapp\"),(\" OS \",\" operating system \"),(\"Wi-Fi\", \"wifi\"),\n",
    "              \n",
    "              (\" bestfriend\", \" best friend\"),(\" bf \",\" boy friend \"),(\" gf \",\" girl friend \"),\n",
    "              (\" boyfriend\",\" boy friend \"),(\" girlfriend\",\" girl friend\"),\n",
    "              \n",
    "              (\"upvote\", \"up vote\"),(\" downvotes \", \" up votes \"),\n",
    "    \n",
    "              ## Years\n",
    "              (\" 1990\",\" year nineteen ninety \"),(\" 1991\",\" year nineteen ninety one \"),(\" 1992\",\" year nineteen ninety two\"),\n",
    "              (\" 2001\",\" year two thousand one\"),(\" 2002\",\" year two thousand two\"),(\" 2003\",\" year two thousand three\"),\n",
    "              (\" 2010\",\" year two thousand ten\"),(\" 2011\",\" year two thousand eleven\"),(\" 2012\",\" year two thousand twelve\"),\n",
    "              (\" 2013\",\" year two thousand thirteen\"),(\" 2014 \",\" year two thousand fourteen\"),\n",
    "              (\" 2015\",\" year two thousand fifteen\"),(\" 2016\",\" year two thousand sixteen\"),(\" 2017\",\" year two thousand seventeen\"),\n",
    "              (\" 2018\",\" year two thousand eighteen\"),(\" 2019\",\" year two thousand nineteen\"),(\" 2020\",\" year two thousand twenty\"),\n",
    "              (\" 2021\",\" year two thousand twenty one\"),\n",
    "    \n",
    "              ## Meaning of most commonly occuring non-vocabulary terms\n",
    "              ('quorans','quora users'),('quora','question and answer website'),\n",
    "              ('instagram','photo and video sharing social network'),\n",
    "              ('whatsapp','messenger'),('snapchat','multimedia messaging app'),\n",
    "              ('paytm','indian ecommerce payment system'),('redmi','phone company'),('flipkart','indian electronic commerce company'),\n",
    "              ('jio','indian mobile network operator'),('spotify','music streaming platform'),('snapdeal','indian ecommerce company'),\n",
    "              ('accenture','global management consulting and professional services firm'),\n",
    "              ('narendra','indian prime minister'),('goswami','indian television anchor'),('arnab','indian television anchor'),\n",
    "              ('airbnb','online marketplace and hospitality service'),\n",
    "              ('kejriwal','delhi chief minister'),('arvind','delhi chief minister'),('cambodia','southeast asian nation'),\n",
    "              ('h1b','american work visa'),('xiaomi','chinese electronics company'),(\" cheque \",\" bank draft\"),\n",
    "              ('zuckerberg','facebook founder'),\n",
    "    \n",
    "              ## Numbers\n",
    "              (\" II \", \" two \"),(\" III \", \" three \"),(\" V \", \" five \"),\n",
    "              (\" 1st\",\" first\"),(\" 2nd\",\" second\"),(\" 3rd\",\" third\"),(\" 4th\",\" fourth\"),(\" 5th\",\" fifth\"),\n",
    "              (\" 6th\",\" sixth\"),(\" 7th\",\" seventh\"),(\" 8th\",\" eigth\"),(\" 9th\",\" ninth\"),(\" 10th\",\" tenth\"),\n",
    "              (\"11th\",\" eleventh\"),(\" 12th\",\" twelfth\"),\n",
    "              (\" 00000\",\" 0\"),(\" 0000\",\" 0\"),(\" 000\",\" 0 \"),(\" 00\",\" 0\"),(\" 0 \",\" zero \"),\n",
    "              (\" 1 \",\" one \"),(\" 01 \",\" one \"),(\" 2 \",\" two \"),(\" 3 \",\" three \"),(\" 4 \",\" four \"),(\" 5 \",\" five \"),\n",
    "              (\" 6 \",\" six \"),(\" 7 \",\" seven \"),(\" 8 \", \" eight \"),(\" 9 \",\" nine \"),(\" 10 \",\" ten \"),(\" 11 \",\" eleven \"),\n",
    "              (' 12 ', ' twelve '),(' 13 ', ' thirteen '),(' 14 ',' fourteen '),(' 15 ', ' fifteen '),(' 16 ', ' sixteen '),\n",
    "              (' 17 ', ' seventeen '),(' 18 ', ' eighteen '),(' 19 ', ' nineteen '),(\" 20 \",\" twenty \"),\n",
    "              (\" 21 \",\" twenty one \"),(\" 24 \",\" twenty four \"),(\" 25 \",\" twenty five \"),\n",
    "              (' 30 ',' thirty '),(' 36 ',\" thirty six \"),(\" 40 \",\" forty \"),(\" 50 \",\" fifty \"),(\" 60 \",\" sixty \"),\n",
    "              (\" 70 \",\" seventy \"), (\" 80 \",\" eighty \"),(\" 90 \",\" ninety \"), (\" 99 \",\" ninety nine \"),\n",
    "              (\" 100 \",\" hundred \"), (\" 200 \",\" two hundred \"),(\" 250 \",\" two fifty \"),(\" 500 \",\" five hundred \"),\n",
    "              (\" 1000 \",\" thousand \"),(\" 2000 \",\" two thousand \"),(\"10k\", \" ten thousand \"),(\"30k\", \" thirty thousand \"),\n",
    "              (\"60k\", \" sixty thousand \"),\n",
    "              (r\"\\0s\", \"0\"),(r\"\\s{2,}\", \" \"),(r\"[^A-Za-z0-9]\", \" \"),\n",
    "              ('\\s+',' '), # replace multi space with one single space\n",
    "             ]\n",
    "\n",
    "##################################################################\n",
    "\n",
    "def clean_text(text, remove_stop_words=False, lemmatize=True, stem_words=False):\n",
    "    ## Given a text as string\n",
    "    ## 1. Converts it into lower case\n",
    "    ## 2. Replaces the old string patterns with new ones\n",
    "    ## 3. Removes all kinds of punctuation\n",
    "    ## 4. Optionally, lemmatizes every word\n",
    "    ## 5. Optionally, removes stop words\n",
    "    ## 6. Optionally, converts every word to its rootword\n",
    "    ## 7. Returns the processed text as a string\n",
    "    \n",
    "    if type(text)!=str: return str(text).lower()\n",
    "    \n",
    "    text=text.lower()\n",
    "    \n",
    "    ## Replace old patterns with new\n",
    "    for old,new in replacements:\n",
    "        text= re.sub(old,new, text)\n",
    "    \n",
    "    text=text.lower()\n",
    "    \n",
    "    # Remove punctuation from text\n",
    "    text = ''.join([c for c in text if c not in punctuation])   \n",
    "    \n",
    "    text = text.split()\n",
    "    \n",
    "    # Lemmatize words\n",
    "    if lemmatize:\n",
    "        text = [ lemmatizer.lemmatize(word,tag_map[tag[0]]) for word,tag in pos_tag(text) ]\n",
    "        \n",
    "    # Remove stop words\n",
    "    if remove_stop_words:\n",
    "        text = [w for w in text if not w in stop_words] \n",
    "    \n",
    "    # Shorten words to their stems\n",
    "    if stem_words:\n",
    "        text = [stemmer.stem(word) for word in text]\n",
    "    \n",
    "    text = \" \".join(text)\n",
    "    \n",
    "    text=text.lower()\n",
    "\n",
    "    # Return the clean text as string\n",
    "    return(text)"
   ]
  },
  {
   "cell_type": "markdown",
   "metadata": {},
   "source": [
    "We do not lemmatize or stem the words since the improvement is not significant and stemming results in loss of information."
   ]
  },
  {
   "cell_type": "code",
   "execution_count": 10,
   "metadata": {},
   "outputs": [
    {
     "data": {
      "text/html": [
       "<div>\n",
       "<style>\n",
       "    .dataframe thead tr:only-child th {\n",
       "        text-align: right;\n",
       "    }\n",
       "\n",
       "    .dataframe thead th {\n",
       "        text-align: left;\n",
       "    }\n",
       "\n",
       "    .dataframe tbody tr th {\n",
       "        vertical-align: top;\n",
       "    }\n",
       "</style>\n",
       "<table border=\"1\" class=\"dataframe\">\n",
       "  <thead>\n",
       "    <tr style=\"text-align: right;\">\n",
       "      <th></th>\n",
       "      <th>question1</th>\n",
       "      <th>question2</th>\n",
       "      <th>is_duplicate</th>\n",
       "    </tr>\n",
       "  </thead>\n",
       "  <tbody>\n",
       "    <tr>\n",
       "      <th>231587</th>\n",
       "      <td>guys always pay attention friends make feel in...</td>\n",
       "      <td>facebook blocked links website get unblocked</td>\n",
       "      <td>0</td>\n",
       "    </tr>\n",
       "    <tr>\n",
       "      <th>376059</th>\n",
       "      <td>best way learn artificial intelligence beginner</td>\n",
       "      <td>best way beginner learn c</td>\n",
       "      <td>0</td>\n",
       "    </tr>\n",
       "    <tr>\n",
       "      <th>177223</th>\n",
       "      <td>modification hypothecation clause possible reg...</td>\n",
       "      <td>christiaan huygens found mv 2</td>\n",
       "      <td>0</td>\n",
       "    </tr>\n",
       "    <tr>\n",
       "      <th>11941</th>\n",
       "      <td>meaning corporate company</td>\n",
       "      <td>meaning corporate company</td>\n",
       "      <td>1</td>\n",
       "    </tr>\n",
       "    <tr>\n",
       "      <th>282308</th>\n",
       "      <td>know girl interested</td>\n",
       "      <td>know girl interested</td>\n",
       "      <td>1</td>\n",
       "    </tr>\n",
       "  </tbody>\n",
       "</table>\n",
       "</div>"
      ],
      "text/plain": [
       "                                                question1  \\\n",
       "231587  guys always pay attention friends make feel in...   \n",
       "376059    best way learn artificial intelligence beginner   \n",
       "177223  modification hypothecation clause possible reg...   \n",
       "11941                           meaning corporate company   \n",
       "282308                               know girl interested   \n",
       "\n",
       "                                           question2  is_duplicate  \n",
       "231587  facebook blocked links website get unblocked             0  \n",
       "376059                     best way beginner learn c             0  \n",
       "177223                 christiaan huygens found mv 2             0  \n",
       "11941                      meaning corporate company             1  \n",
       "282308                          know girl interested             1  "
      ]
     },
     "execution_count": 10,
     "metadata": {},
     "output_type": "execute_result"
    }
   ],
   "source": [
    "df[q1]=df[q1].apply(lambda x: clean_text(x, remove_stop_words=True, lemmatize=False, stem_words=False))\n",
    "df[q2]=df[q2].apply(lambda x: clean_text(x, remove_stop_words=True, lemmatize=False, stem_words=False))\n",
    "df.head(5)"
   ]
  },
  {
   "cell_type": "markdown",
   "metadata": {},
   "source": [
    "## Finding the most frequent words not in our vocabulary<br>\n",
    "This code is useful for exploring and cleaning the text."
   ]
  },
  {
   "cell_type": "code",
   "execution_count": 11,
   "metadata": {},
   "outputs": [
    {
     "name": "stdout",
     "output_type": "stream",
     "text": [
      "There are 5630 unknown words in our dataset.\n",
      "First few unknown words and their count [(136, '10'), (104, '000'), (65, '500'), (60, '20'), (60, '11'), (54, '1000'), (46, '100'), (44, 'mistry'), (42, '16'), (41, 'cgl')]\n"
     ]
    }
   ],
   "source": [
    "## Stores the count of words\n",
    "counts = Counter([])\n",
    "_=df[q1].apply(lambda x:counts.update(x.split(\" \")))\n",
    "_=df[q2].apply(lambda x:counts.update(x.split(\" \")))\n",
    "\n",
    "words=[(v,k) for k,v in counts.items()]\n",
    "words.sort(reverse=True)\n",
    "\n",
    "unknown_words=[]\n",
    "for count,word in words:\n",
    "    if word not in word_embeddings:\n",
    "        unknown_words.append((count,word))\n",
    "        \n",
    "print(\"There are {} unknown words in our dataset.\".format(len(unknown_words)))\n",
    "print(\"First few unknown words and their count\",unknown_words[:10])"
   ]
  },
  {
   "cell_type": "markdown",
   "metadata": {},
   "source": [
    "## Tokenize text and create embedding dictionary"
   ]
  },
  {
   "cell_type": "code",
   "execution_count": 12,
   "metadata": {},
   "outputs": [],
   "source": [
    "## Creates a dictionary of (index,word) pairs\n",
    "tokenizer = Tokenizer()\n",
    "tokenizer.fit_on_texts(df[q1].tolist()+df[q2].tolist())\n",
    "\n",
    "## Replaces every word in the question with the index of the word in the dictionary.\n",
    "df[q1] = tokenizer.texts_to_sequences(df[q1])\n",
    "df[q2] = tokenizer.texts_to_sequences(df[q2])\n",
    "\n",
    "## Dictionary of (index,word) pairs\n",
    "vocabulary = tokenizer.word_index\n",
    "\n",
    "## Initializing embeddings matrix with random values\n",
    "embeddings = 1 * np.random.randn(len(vocabulary) + 1, EMBEDDING_LEN)  \n",
    "embeddings[0] = 0      ## Embedding vector for unrecognized words\n",
    "\n",
    "## Filling up the embedding matrix with actual embedding values\n",
    "for word, index in vocabulary.items():\n",
    "    if word in word_embeddings:\n",
    "        embeddings[index] = word_embeddings[word]\n",
    "    #else: print(word)"
   ]
  },
  {
   "cell_type": "markdown",
   "metadata": {},
   "source": [
    "## Utility functions \n",
    "To process and display results<br>\n",
    "Save and load models and weights to files<br>\n",
    "Load models and weights from files"
   ]
  },
  {
   "cell_type": "code",
   "execution_count": 13,
   "metadata": {},
   "outputs": [],
   "source": [
    "##Plots train_loss and val_loss over the given epochs\n",
    "def plot_loss(train_loss,val_loss):\n",
    "    ## Input: Training loss and Validation loss of the \n",
    "    ## model over many epochs.\n",
    "    ## Output: Plots both losses over the given epochs\n",
    "    plt.plot(train_loss)\n",
    "    plt.plot(val_loss)\n",
    "    plt.title('Train loss vs Validation loss')\n",
    "    plt.ylabel('Loss')\n",
    "    plt.xlabel('Epoch')\n",
    "    plt.legend(['Train', 'Validation'], loc='upper right')\n",
    "    plt.show()\n",
    "\n",
    "# Output: Plots ROCs of the models and prints results    \n",
    "def display_final_results(models):\n",
    "    ## Input: Results of the models in an array: [(fpr,tpr,model_name)]\n",
    "    ## Output: Plots ROCs of the models and prints results\n",
    "    for model in models:\n",
    "        fpr,tpr,name= model\n",
    "        print(\"AUC for {} is {}\".format(name,auc(fpr, tpr)))\n",
    "        plt.plot(fpr, tpr,label=name)\n",
    "    plt.plot([0, 1], [0, 1], 'k--')\n",
    "    plt.xlim([0.0, 1.0])\n",
    "    plt.ylim([0.0, 1.05])\n",
    "    plt.title('ROC for binary classifiers')\n",
    "    \n",
    "    plt.xlabel('False Positive Rate')\n",
    "    plt.ylabel('True Positive Rate')\n",
    "    plt.legend(loc=\"lower right\")\n",
    "    plt.show()\n",
    "\n",
    "    \n",
    "## Save models and weights to files   \n",
    "def save_model(model, model_fname, weights_fname):\n",
    "    ## Input:\n",
    "    ## The model object to be saved\n",
    "    ## Filename in which to save the model ( in json )\n",
    "    ## Filename in which to save the weights ( in HDF5 )\n",
    "    ## Result: The model and weights will be saved by the given filenames\n",
    "    \n",
    "    # Serialize model to JSON\n",
    "    model_json = model.to_json()\n",
    "    with open(model_fname, \"w\") as json_file:\n",
    "        json_file.write(model_json)\n",
    "\n",
    "    # serialize weights to HDF5\n",
    "    model.save_weights(weights_fname)\n",
    "\n",
    "\n",
    "## Load models and weights from files \n",
    "def load_model(model_fname, weights_fname):\n",
    "    ## Input: Filename of the model ( json ) and weights ( HDF5) \n",
    "    ## Output: Returns the model\n",
    "    \n",
    "    # load json from file and create model\n",
    "    with open(model_fname, 'r') as json_file:\n",
    "        model = model_from_json(json_file.read())\n",
    "\n",
    "    # load weights into new model\n",
    "    model.load_weights(weights_fname)\n",
    "    \n",
    "    return model"
   ]
  },
  {
   "cell_type": "markdown",
   "metadata": {},
   "source": [
    "These structures are updated as we go along building models. The results are printed in the end."
   ]
  },
  {
   "cell_type": "code",
   "execution_count": 14,
   "metadata": {},
   "outputs": [],
   "source": [
    "results=[]\n",
    "metrics=pd.DataFrame(columns=['test_accuracy','train_accuracy','val_accuracy'])\n",
    "#print(confusion_matrix(Y_test, pred))\n",
    "#print(classification_report(Y_test, pred))"
   ]
  },
  {
   "cell_type": "markdown",
   "metadata": {},
   "source": [
    "## Approach 1: Average word vectors"
   ]
  },
  {
   "cell_type": "markdown",
   "metadata": {},
   "source": [
    "Sentence are represented by the average of its word vectors. "
   ]
  },
  {
   "cell_type": "markdown",
   "metadata": {},
   "source": [
    "### Creating features by averaging word embeddings"
   ]
  },
  {
   "cell_type": "code",
   "execution_count": 15,
   "metadata": {
    "cell_style": "center"
   },
   "outputs": [
    {
     "data": {
      "text/plain": [
       "(28300, 900)"
      ]
     },
     "execution_count": 15,
     "metadata": {},
     "output_type": "execute_result"
    }
   ],
   "source": [
    "def get_Sentence_Vector(words):\n",
    "    ## Input: Sentence as a list of word indices\n",
    "    ## Returns the average of word embeddings of all words in the string\n",
    "    total=np.zeros(300)\n",
    "    for index in words:\n",
    "        total+=embeddings[index]\n",
    "    count=len(words)\n",
    "    return total/count\n",
    "\n",
    "X1=df[q1].apply(lambda x: get_Sentence_Vector(x))\n",
    "X2=df[q2].apply(lambda x: get_Sentence_Vector(x))\n",
    "\n",
    "new1=pd.DataFrame(X1.values.tolist(), index=X1.index)\n",
    "new2=pd.DataFrame(X2.values.tolist(), index=X1.index)\n",
    "\n",
    "new=new1.join(new2,lsuffix=\"q1_\",rsuffix=\"q2_\")\n",
    "\n",
    "x1=np.array(X1.values.tolist())\n",
    "x2=np.array(X2.values.tolist())\n",
    "\n",
    "## Generating additional features by multiplying the average vectors of two sentences\n",
    "X1_X2=pd.DataFrame(x1*x2, index=X1.index)\n",
    "\n",
    "new=new.join(X1_X2,rsuffix=\"q1q2_\")\n",
    "new=new.fillna(0)\n",
    "new.shape"
   ]
  },
  {
   "cell_type": "markdown",
   "metadata": {},
   "source": [
    "The new dataframe has 900 columns. 300 from the average embedding of question 1 , 300 from question 2 and 300 from multiplying the word embeddings of question 1 and question 2."
   ]
  },
  {
   "cell_type": "markdown",
   "metadata": {},
   "source": [
    "### Splitting the data into train, test and validation datasets.<br>"
   ]
  },
  {
   "cell_type": "code",
   "execution_count": 34,
   "metadata": {},
   "outputs": [
    {
     "name": "stdout",
     "output_type": "stream",
     "text": [
      "Train dataset size:  25005\n",
      "Validation dataset size:  1597\n",
      "Test dataset size:  1698\n"
     ]
    }
   ],
   "source": [
    "X_train, X_test, Y_train, Y_test = train_test_split( new, df[is_duplicate], test_size=0.06, stratify=df[is_duplicate])\n",
    "X_train, X_val, Y_train, Y_val = train_test_split( X_train, Y_train, test_size=0.06, stratify=Y_train)\n",
    "\n",
    "print(\"Train dataset size: \",X_train.shape[0])\n",
    "print(\"Validation dataset size: \",X_val.shape[0])\n",
    "print(\"Test dataset size: \",X_test.shape[0])"
   ]
  },
  {
   "cell_type": "markdown",
   "metadata": {},
   "source": [
    "### Logistic Regression"
   ]
  },
  {
   "cell_type": "code",
   "execution_count": 17,
   "metadata": {},
   "outputs": [
    {
     "name": "stdout",
     "output_type": "stream",
     "text": [
      "Comparing 8 parameter setting(s) using 4 CPU thread(s) ( 2 job(s) per thread ).\n",
      "GridSearch(cv_folds=3,\n",
      "      model=LogisticRegression(C=0.5, class_weight=None, dual=False, fit_intercept=True,\n",
      "          intercept_scaling=1, max_iter=100, multi_class='ovr', n_jobs=1,\n",
      "          penalty='l2', random_state=0, solver='liblinear', tol=0.0001,\n",
      "          verbose=0, warm_start=False),\n",
      "      num_threads=4, seed=0)\n"
     ]
    }
   ],
   "source": [
    "parameters = [{\"penalty\":[\"l1\",\"l2\"],'C': [0,3,0.5,0.6]}]\n",
    "\n",
    "clf = LogisticRegression()\n",
    "clf = GridSearch(model = clf)\n",
    "clf.fit(X_train, Y_train, parameters, X_val, Y_val)\n",
    "\n",
    "print(clf)\n",
    "\n",
    "pred=clf.predict(X_test)\n",
    "scores = clf.predict_proba(X_test)[:,1]\n",
    "\n",
    "test_acc=clf.score(X_test, Y_test)\n",
    "train_acc=clf.score(X_train, Y_train)\n",
    "val_acc=clf.score(X_val, Y_val)\n",
    "\n",
    "fpr, tpr, thresholds = roc_curve(Y_test, scores, pos_label=1)\n",
    "\n",
    "name=\"Logistic Regression\"\n",
    "results.append((fpr, tpr,name))\n",
    "metrics.loc[name] = np.array([test_acc,train_acc,val_acc])"
   ]
  },
  {
   "cell_type": "markdown",
   "metadata": {},
   "source": [
    "### Gaussian NaiveBayes"
   ]
  },
  {
   "cell_type": "code",
   "execution_count": 18,
   "metadata": {},
   "outputs": [],
   "source": [
    "from sklearn.naive_bayes import GaussianNB\n",
    "clf = GaussianNB()\n",
    "clf.fit(X_train, Y_train)\n",
    "\n",
    "pred=clf.predict(X_test)\n",
    "scores = clf.predict_proba(X_test)[:,1]\n",
    "\n",
    "test_acc=clf.score(X_test, Y_test)\n",
    "train_acc=clf.score(X_train, Y_train)\n",
    "val_acc=clf.score(X_val, Y_val)\n",
    "\n",
    "fpr, tpr, thresholds = roc_curve(Y_test, scores, pos_label=1)\n",
    "\n",
    "name=\"Gaussian NaiveBayes\"\n",
    "results.append((fpr, tpr,name))\n",
    "metrics.loc[name] = np.array([test_acc,train_acc,val_acc])"
   ]
  },
  {
   "cell_type": "markdown",
   "metadata": {},
   "source": [
    "### Random Forest"
   ]
  },
  {
   "cell_type": "code",
   "execution_count": 19,
   "metadata": {},
   "outputs": [
    {
     "name": "stdout",
     "output_type": "stream",
     "text": [
      "Comparing 9 parameter setting(s) using 4 CPU thread(s) ( 2 job(s) per thread ).\n",
      "GridSearch(cv_folds=3,\n",
      "      model=RandomForestClassifier(bootstrap=True, class_weight=None, criterion='gini',\n",
      "            max_depth=6, max_features='auto', max_leaf_nodes=None,\n",
      "            min_impurity_split=1e-07, min_samples_leaf=1,\n",
      "            min_samples_split=2, min_weight_fraction_leaf=0.0,\n",
      "            n_estimators=25, n_jobs=1, oob_score=False, random_state=0,\n",
      "            verbose=0, warm_start=False),\n",
      "      num_threads=4, seed=0)\n"
     ]
    }
   ],
   "source": [
    "parameters = {'max_depth':[4,5,6], 'n_estimators':[15,20,25]}\n",
    "clf = RandomForestClassifier()\n",
    "clf = GridSearch(model = clf)\n",
    "clf.fit(X_train, Y_train, parameters, X_val, Y_val)\n",
    "\n",
    "pred=clf.predict(X_test)\n",
    "scores = clf.predict_proba(X_test)[:,1]\n",
    "\n",
    "test_acc=clf.score(X_test, Y_test)\n",
    "train_acc=clf.score(X_train, Y_train)\n",
    "val_acc=clf.score(X_val, Y_val)\n",
    "\n",
    "fpr, tpr, thresholds = roc_curve(Y_test, scores, pos_label=1)\n",
    "\n",
    "name=\"RandomForest\"\n",
    "results.append((fpr, tpr,name))\n",
    "metrics.loc[name] = np.array([test_acc,train_acc,val_acc])"
   ]
  },
  {
   "cell_type": "markdown",
   "metadata": {},
   "source": [
    "### Feed forward Neural network"
   ]
  },
  {
   "cell_type": "code",
   "execution_count": 35,
   "metadata": {},
   "outputs": [],
   "source": [
    "def feed_forward_model():\n",
    "    model = Sequential()\n",
    "    model.add(Dense(60, activation=\"relu\", kernel_initializer=\"uniform\", input_dim=900))\n",
    "    model.add(Dropout(0.55))\n",
    "    model.add(Dense(1, activation=\"sigmoid\"))\n",
    "    return model"
   ]
  },
  {
   "cell_type": "code",
   "execution_count": 36,
   "metadata": {},
   "outputs": [
    {
     "data": {
      "image/png": "[encoded data removed]",
      "text/plain": [
       "<matplotlib.figure.Figure at 0x2a5073ee48>"
      ]
     },
     "metadata": {
      "needs_background": "light"
     },
     "output_type": "display_data"
    }
   ],
   "source": [
    "EPOCHS=18\n",
    "BATCH_SIZE=128\n",
    "\n",
    "model=feed_forward_model()\n",
    "\n",
    "#optimizer=Adadelta(clipnorm=1.5)\n",
    "optimizer = SGD(lr=0.1, momentum=0.9, decay=0.0, nesterov=False)\n",
    "model.compile(loss=\"binary_crossentropy\", optimizer=optimizer, metrics=[\"accuracy\"])\n",
    "\n",
    "history = model.fit(X_train, Y_train, batch_size=BATCH_SIZE, epochs=EPOCHS, verbose=0, validation_data=(X_test, Y_test))\n",
    "plot_loss(history.history['loss'],history.history['val_loss'])"
   ]
  },
  {
   "cell_type": "code",
   "execution_count": 22,
   "metadata": {},
   "outputs": [
    {
     "name": "stdout",
     "output_type": "stream",
     "text": [
      "1698/1698 [==============================] - 0s 165us/step\n",
      "25005/25005 [==============================] - 4s 169us/step\n",
      "1597/1597 [==============================] - 0s 154us/step\n"
     ]
    }
   ],
   "source": [
    "scores = model.predict(X_test).ravel()\n",
    "fpr, tpr, thresholds = roc_curve(Y_test, scores, pos_label=1)\n",
    "\n",
    "test_acc=model.evaluate(X_test, Y_test)[1]\n",
    "train_acc=model.evaluate(X_train, Y_train)[1]\n",
    "val_acc=model.evaluate(X_val, Y_val)[1]\n",
    "\n",
    "name=\"Feed Forward Neural Network\"\n",
    "results.append((fpr, tpr,name))\n",
    "metrics.loc[name] = np.array([test_acc,train_acc,val_acc])"
   ]
  },
  {
   "cell_type": "markdown",
   "metadata": {},
   "source": [
    "## Approach 2: RNN Models"
   ]
  },
  {
   "cell_type": "code",
   "execution_count": 23,
   "metadata": {},
   "outputs": [],
   "source": [
    "X_train, Y_train = df.loc[X_train.index][[q1,q2]],df.loc[X_train.index][is_duplicate]\n",
    "X_val, Y_val =  df.loc[X_val.index][[q1,q2]],df.loc[X_val.index][is_duplicate]\n",
    "X_test, Y_test = df.loc[X_test.index][[q1,q2]],df.loc[X_test.index][is_duplicate]"
   ]
  },
  {
   "cell_type": "markdown",
   "metadata": {},
   "source": [
    "### Splitting and zero padding.\n",
    "Any sentence with length greater than SENTENCE_LEN will be truncated.<br>Any sentence with length lesser than SENTENCE_LEN will be padded with zeros.<br>"
   ]
  },
  {
   "cell_type": "code",
   "execution_count": 24,
   "metadata": {},
   "outputs": [],
   "source": [
    "SENTENCE_LEN = 15\n",
    "\n",
    "# Split to dicts\n",
    "X_train      = {'left': X_train[q1],      'right': X_train[q2]}\n",
    "X_val        = {'left': X_val[q1],        'right': X_val[q2]}\n",
    "X_test       = {'left': X_test[q1],       'right': X_test[q2]}\n",
    "\n",
    "# Convert labels to their numpy representations\n",
    "Y_train      = Y_train.values\n",
    "Y_val        = Y_val.values\n",
    "Y_test       = Y_test.values\n",
    "\n",
    "## Zero padding:\n",
    "for dataset in [X_train, X_val, X_test]:\n",
    "    for side in ['left', 'right']:\n",
    "        dataset[side] = pad_sequences(dataset[side],  maxlen=SENTENCE_LEN)   "
   ]
  },
  {
   "cell_type": "markdown",
   "metadata": {},
   "source": [
    "### LSTM Classifier"
   ]
  },
  {
   "cell_type": "markdown",
   "metadata": {},
   "source": [
    "This model is inspired by the blog post:<br>\n",
    "https://medium.com/mlreview/implementing-malstm-on-kaggles-quora-question-pairs-competition-8b31b0b16a07 "
   ]
  },
  {
   "cell_type": "code",
   "execution_count": 25,
   "metadata": {},
   "outputs": [],
   "source": [
    "\n",
    "def LSTM_Model():\n",
    "    # The visible layer33.\n",
    "    left_input = Input(shape=(SENTENCE_LEN,), dtype='int32')\n",
    "    right_input = Input(shape=(SENTENCE_LEN,), dtype='int32')\n",
    "\n",
    "    embedding_layer = Embedding(len(embeddings), EMBEDDING_LEN, weights=[embeddings], input_length=SENTENCE_LEN, trainable=False)\n",
    "\n",
    "    # Embedded version of the inputs\n",
    "    encoded_left = embedding_layer(left_input)\n",
    "    encoded_right = embedding_layer(right_input)\n",
    "\n",
    "    # Since this is a siamese network, both sides share the same LSTM\n",
    "    shared_lstm = LSTM(NODES)\n",
    "\n",
    "    left_output = shared_lstm(encoded_left)\n",
    "    right_output = shared_lstm(encoded_right)\n",
    "    \n",
    "    # Calculates the distance as defined by the MaLSTM model, exponent_neg_manhattan_distance\n",
    "    distance = Lambda(function=lambda x: K.exp(-K.sum(K.abs(x[0]-x[1]), axis=1, keepdims=True)),output_shape=lambda x: (x[0][0], 1))([left_output, right_output])\n",
    "\n",
    "    # Pack it all up into a model\n",
    "    model = Model([left_input, right_input], [distance])\n",
    "    return model"
   ]
  },
  {
   "cell_type": "code",
   "execution_count": 26,
   "metadata": {
    "code_folding": []
   },
   "outputs": [
    {
     "data": {
      "image/png": "[encoded data removed]",
      "text/plain": [
       "<matplotlib.figure.Figure at 0x2a4dda06a0>"
      ]
     },
     "metadata": {
      "needs_background": "light"
     },
     "output_type": "display_data"
    }
   ],
   "source": [
    "# Model variables\n",
    "GRADIENT_CLIP_NORM = 1.0\n",
    "DROPOUT = 0.5\n",
    "NODES = 30\n",
    "BATCH_SIZE = 128\n",
    "EPOCHS = 20\n",
    "\n",
    "model = LSTM_Model()\n",
    "# model = load_model(model_fname, weights_fname)\n",
    "\n",
    "optimizer=Adadelta(clipnorm=GRADIENT_CLIP_NORM)\n",
    "#optimizer=optimizers.SGD(lr=0.1)\n",
    "model.compile(loss='mean_squared_error', optimizer=optimizer, metrics=['accuracy']) \n",
    "\n",
    "history = model.fit([X_train['left'], X_train['right']], Y_train, batch_size=BATCH_SIZE, epochs=EPOCHS,verbose=0,\n",
    "                            validation_data=([X_val['left'], X_val['right']], Y_val),shuffle=True)\n",
    "\n",
    "plot_loss(history.history['loss'],history.history['val_loss'])"
   ]
  },
  {
   "cell_type": "code",
   "execution_count": 27,
   "metadata": {},
   "outputs": [
    {
     "name": "stdout",
     "output_type": "stream",
     "text": [
      "1698/1698 [==============================] - 1s 295us/step\n",
      "25005/25005 [==============================] - 12s 496us/step\n",
      "1597/1597 [==============================] - 0s 295us/step\n"
     ]
    }
   ],
   "source": [
    "scores = model.predict([X_test['left'],X_test['right']]).ravel()\n",
    "fpr, tpr, thresholds = roc_curve(Y_test, scores, pos_label=1)\n",
    "\n",
    "test_acc=model.evaluate([X_test['left'],X_test['right']], Y_test)[1]\n",
    "train_acc=model.evaluate([X_train['left'],X_train['right']], Y_train)[1]\n",
    "val_acc=model.evaluate([X_val['left'],X_val['right']], Y_val)[1]\n",
    "\n",
    "name=\"LSTM\"\n",
    "results.append((fpr, tpr,name))\n",
    "metrics.loc[name] = np.array([test_acc,train_acc,val_acc])"
   ]
  },
  {
   "cell_type": "markdown",
   "metadata": {},
   "source": [
    "### Attention Model"
   ]
  },
  {
   "cell_type": "code",
   "execution_count": 28,
   "metadata": {
    "code_folding": []
   },
   "outputs": [],
   "source": [
    "def Attention_Model():\n",
    "    question1 = Input(shape=(SENTENCE_LEN,))\n",
    "    question2 = Input(shape=(SENTENCE_LEN,))\n",
    "\n",
    "    q1 = Embedding(len(embeddings), \n",
    "                     EMBEDDING_LEN, \n",
    "                     weights=[embeddings], \n",
    "                     input_length=SENTENCE_LEN, \n",
    "                     trainable=False)(question1)\n",
    "    q1 = Bidirectional(LSTM(NODES_1, return_sequences=True), merge_mode=\"sum\")(q1)\n",
    "\n",
    "    q2 = Embedding(len(embeddings), \n",
    "                     EMBEDDING_LEN, \n",
    "                     weights=[embeddings], \n",
    "                     input_length=SENTENCE_LEN, \n",
    "                     trainable=False)(question2)\n",
    "    q2 = Bidirectional(LSTM(NODES_1, return_sequences=True), merge_mode=\"sum\")(q2)\n",
    "\n",
    "    attention = dot([q1,q2], [1,1])\n",
    "    attention = Flatten()(attention)\n",
    "    \n",
    "    attention = Dense((1*NODES_1))(attention)\n",
    "    attention = Reshape((1,NODES_1))(attention)\n",
    "\n",
    "    merged = add([q1,attention])\n",
    "    merged = Flatten()(merged)\n",
    "    merged = Dense(NODES_2, activation='relu')(merged)\n",
    "    merged = Dropout(DROPOUT)(merged)\n",
    "    merged = BatchNormalization()(merged)\n",
    "\n",
    "    is_duplicate = Dense(1, activation='sigmoid')(merged)\n",
    "\n",
    "    model = Model(inputs=[question1,question2], outputs=is_duplicate)\n",
    "    return model"
   ]
  },
  {
   "cell_type": "code",
   "execution_count": 29,
   "metadata": {},
   "outputs": [
    {
     "data": {
      "image/png": "[encoded data removed]",
      "text/plain": [
       "<matplotlib.figure.Figure at 0x2a4f3f5da0>"
      ]
     },
     "metadata": {
      "needs_background": "light"
     },
     "output_type": "display_data"
    }
   ],
   "source": [
    "BATCH_SIZE = 128\n",
    "EPOCHS = 15\n",
    "NODES_1=3\n",
    "NODES_2=3\n",
    "DROPOUT=0.4\n",
    "\n",
    "model=Attention_Model()\n",
    "model.compile(loss='binary_crossentropy', optimizer='adam', metrics=['accuracy'])\n",
    "#callbacks = [ModelCheckpoint(MODEL_WEIGHTS_FILE, monitor='val_acc', save_best_only=True)]\n",
    "history = model.fit([X_train['left'], X_train['right']], Y_train, epochs=EPOCHS,verbose=0,\n",
    "                    validation_data=([X_val['left'], X_val['right']], Y_val),batch_size=BATCH_SIZE,)\n",
    "\n",
    "#model.summary()\n",
    "plot_loss(history.history['loss'],history.history['val_loss'])"
   ]
  },
  {
   "cell_type": "code",
   "execution_count": 30,
   "metadata": {},
   "outputs": [
    {
     "name": "stdout",
     "output_type": "stream",
     "text": [
      "1698/1698 [==============================] - 1s 808us/step\n",
      "25005/25005 [==============================] - 17s 663us/step\n",
      "1597/1597 [==============================] - 1s 455us/step\n"
     ]
    }
   ],
   "source": [
    "scores = model.predict([X_test['left'],X_test['right']]).ravel()\n",
    "fpr, tpr, thresholds = roc_curve(Y_test, scores, pos_label=1)\n",
    "\n",
    "test_acc=model.evaluate([X_test['left'],X_test['right']], Y_test)[1]\n",
    "train_acc=model.evaluate([X_train['left'],X_train['right']], Y_train)[1]\n",
    "val_acc=model.evaluate([X_val['left'],X_val['right']], Y_val)[1]\n",
    "\n",
    "name=\"Attention\"\n",
    "results.append((fpr, tpr, name))\n",
    "metrics.loc[name] = np.array([test_acc,train_acc,val_acc])"
   ]
  },
  {
   "cell_type": "markdown",
   "metadata": {},
   "source": [
    "## Results"
   ]
  },
  {
   "cell_type": "code",
   "execution_count": 31,
   "metadata": {},
   "outputs": [
    {
     "name": "stdout",
     "output_type": "stream",
     "text": [
      "AUC for Logistic Regression is 0.7058719287821454\n",
      "AUC for Gaussian NaiveBayes is 0.5570901406814721\n",
      "AUC for RandomForest is 0.7534083277117332\n",
      "AUC for Feed Forward Neural Network is 0.7888705721523059\n",
      "AUC for LSTM is 0.8012738322335846\n",
      "AUC for Attention is 0.722011505293239\n"
     ]
    },
    {
     "data": {
      "image/png": "[encoded data removed]",
      "text/plain": [
       "<matplotlib.figure.Figure at 0x2a507eec50>"
      ]
     },
     "metadata": {
      "needs_background": "light"
     },
     "output_type": "display_data"
    },
    {
     "data": {
      "text/html": [
       "<div>\n",
       "<style>\n",
       "    .dataframe thead tr:only-child th {\n",
       "        text-align: right;\n",
       "    }\n",
       "\n",
       "    .dataframe thead th {\n",
       "        text-align: left;\n",
       "    }\n",
       "\n",
       "    .dataframe tbody tr th {\n",
       "        vertical-align: top;\n",
       "    }\n",
       "</style>\n",
       "<table border=\"1\" class=\"dataframe\">\n",
       "  <thead>\n",
       "    <tr style=\"text-align: right;\">\n",
       "      <th></th>\n",
       "      <th>test_accuracy</th>\n",
       "      <th>train_accuracy</th>\n",
       "      <th>val_accuracy</th>\n",
       "    </tr>\n",
       "  </thead>\n",
       "  <tbody>\n",
       "    <tr>\n",
       "      <th>Logistic Regression</th>\n",
       "      <td>0.690813</td>\n",
       "      <td>0.700980</td>\n",
       "      <td>0.696932</td>\n",
       "    </tr>\n",
       "    <tr>\n",
       "      <th>Gaussian NaiveBayes</th>\n",
       "      <td>0.455241</td>\n",
       "      <td>0.445791</td>\n",
       "      <td>0.462116</td>\n",
       "    </tr>\n",
       "    <tr>\n",
       "      <th>RandomForest</th>\n",
       "      <td>0.666667</td>\n",
       "      <td>0.682464</td>\n",
       "      <td>0.679399</td>\n",
       "    </tr>\n",
       "    <tr>\n",
       "      <th>Feed Forward Neural Network</th>\n",
       "      <td>0.732627</td>\n",
       "      <td>0.786363</td>\n",
       "      <td>0.731371</td>\n",
       "    </tr>\n",
       "    <tr>\n",
       "      <th>LSTM</th>\n",
       "      <td>0.748528</td>\n",
       "      <td>0.825875</td>\n",
       "      <td>0.767689</td>\n",
       "    </tr>\n",
       "    <tr>\n",
       "      <th>Attention</th>\n",
       "      <td>0.683746</td>\n",
       "      <td>0.751810</td>\n",
       "      <td>0.696932</td>\n",
       "    </tr>\n",
       "  </tbody>\n",
       "</table>\n",
       "</div>"
      ],
      "text/plain": [
       "                             test_accuracy  train_accuracy  val_accuracy\n",
       "Logistic Regression               0.690813        0.700980      0.696932\n",
       "Gaussian NaiveBayes               0.455241        0.445791      0.462116\n",
       "RandomForest                      0.666667        0.682464      0.679399\n",
       "Feed Forward Neural Network       0.732627        0.786363      0.731371\n",
       "LSTM                              0.748528        0.825875      0.767689\n",
       "Attention                         0.683746        0.751810      0.696932"
      ]
     },
     "execution_count": 31,
     "metadata": {},
     "output_type": "execute_result"
    }
   ],
   "source": [
    "display_final_results(results)\n",
    "metrics"
   ]
  },
  {
   "cell_type": "markdown",
   "metadata": {},
   "source": [
    "## Conclusion"
   ]
  },
  {
   "cell_type": "markdown",
   "metadata": {},
   "source": [
    "#### Explain why certain models perform poorly \n",
    "Gaussian NaiveBayes performs poorly.The reason for the bad results could be the violation of the independence assumption.\n",
    "Since the features are made of average word vectors from two sentences, they cannot be considered independent.<br>\n",
    "\n",
    "#### Explain why certain models perform well\n",
    "Siamese LSTM model is the best performing among all the classifiers. Neural network models are known to work extremely well on NLP problems.This graph points to the fact.<br>\n",
    "\n",
    "#### Overfitting and underfitting\n",
    "The accuracies of validation and test data is almost the same for all classifiers.This points to the fact that the validation and test datasets have enough samples to be reliable as a true generalization metric."
   ]
  },
  {
   "cell_type": "markdown",
   "metadata": {},
   "source": [
    "## References<br>\n",
    "https://github.com/bradleypallen/keras-quora-question-pairs/blob/master/quora-question-pairs-training-attention.ipynb<br>\n",
    "https://blog.keras.io/using-pre-trained-word-embeddings-in-a-keras-model.html<br>\n",
    "https://www.learnenglish.de/spelling/commonspellingmistakes.html<br"
   ]
  },
  {
   "cell_type": "code",
   "execution_count": 32,
   "metadata": {},
   "outputs": [],
   "source": [
    "#Data exploration\n",
    "##Hyperparameter tuning\n",
    "#Documentation"
   ]
  }
 ],
 "metadata": {
  "kernelspec": {
   "display_name": "Python 3",
   "language": "python",
   "name": "python3"
  },
  "language_info": {
   "codemirror_mode": {
    "name": "ipython",
    "version": 3
   },
   "file_extension": ".py",
   "mimetype": "text/x-python",
   "name": "python",
   "nbconvert_exporter": "python",
   "pygments_lexer": "ipython3",
   "version": "3.5.2"
  },
  "toc": {
   "base_numbering": 1,
   "nav_menu": {
    "height": "29px",
    "width": "160px"
   },
   "number_sections": true,
   "sideBar": true,
   "skip_h1_title": true,
   "title_cell": "Quora Question Pairs",
   "title_sidebar": "Contents",
   "toc_cell": true,
   "toc_position": {
    "height": "523px",
    "left": "1172px",
    "top": "112px",
    "width": "172px"
   },
   "toc_section_display": true,
   "toc_window_display": true
  },
  "varInspector": {
   "cols": {
    "lenName": 16,
    "lenType": 16,
    "lenVar": 40
   },
   "kernels_config": {
    "python": {
     "delete_cmd_postfix": "",
     "delete_cmd_prefix": "del ",
     "library": "var_list.py",
     "varRefreshCmd": "print(var_dic_list())"
    },
    "r": {
     "delete_cmd_postfix": ") ",
     "delete_cmd_prefix": "rm(",
     "library": "var_list.r",
     "varRefreshCmd": "cat(var_dic_list()) "
    }
   },
   "types_to_exclude": [
    "module",
    "function",
    "builtin_function_or_method",
    "instance",
    "_Feature"
   ],
   "window_display": false
  }
 },
 "nbformat": 4,
 "nbformat_minor": 2
}
